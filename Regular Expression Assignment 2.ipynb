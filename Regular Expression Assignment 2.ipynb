{
 "cells": [
  {
   "cell_type": "markdown",
   "id": "26855a08",
   "metadata": {},
   "source": [
    "# ABHISHEK KUMAR\n",
    "# INTERNSHIP NUMBER-DS2309"
   ]
  },
  {
   "cell_type": "markdown",
   "id": "84874a57",
   "metadata": {},
   "source": [
    "# ------------------------------------------------------------------------------------------------------------"
   ]
  },
  {
   "cell_type": "markdown",
   "id": "b32af837",
   "metadata": {},
   "source": [
    "# Regular Expression Assignment "
   ]
  },
  {
   "cell_type": "markdown",
   "id": "de977f8d",
   "metadata": {},
   "source": [
    "# Question 1\n",
    "\n",
    "Write a Python program to replace all occurrences of a space, comma, or dot with a colon.\n",
    "Sample Text- 'Python Exercises, PHP exercises.'\n",
    "Expected Output: Python:Exercises::PHP:exercises:\n",
    "\n"
   ]
  },
  {
   "cell_type": "code",
   "execution_count": 431,
   "id": "ae240787",
   "metadata": {},
   "outputs": [
    {
     "name": "stdout",
     "output_type": "stream",
     "text": [
      "Python:Exercises::PHP:exercises:\n"
     ]
    }
   ],
   "source": [
    "import regex as re\n",
    "\n",
    "sample_text= 'Python Exercises, PHP exercises.'\n",
    "\n",
    "replace='[,|\\s|.]'\n",
    "\n",
    "x=re.sub(replace,':',sample_text)\n",
    "\n",
    "print(x)"
   ]
  },
  {
   "cell_type": "markdown",
   "id": "d4484d22",
   "metadata": {},
   "source": [
    "# Question 2\n",
    "Write a Python program to find all words starting with 'a' or 'e' in a given string."
   ]
  },
  {
   "cell_type": "code",
   "execution_count": 432,
   "id": "e5bcf56b",
   "metadata": {},
   "outputs": [
    {
     "name": "stdout",
     "output_type": "stream",
     "text": [
      "['Abhishek', 'aswathama', 'ashish', 'Artist', 'everything', 'encode', 'else']\n"
     ]
    }
   ],
   "source": [
    "import re\n",
    "words=['Abhishek', 'aswathama', 'ashish', 'Data', 'scientist', 'Artist', 'everything', 'encode','else' ]\n",
    "\n",
    "word_start_with=r'^(a|e)\\w+'\n",
    "\n",
    "x=[string for string in words if re.findall(word_start_with,string, re.IGNORECASE)]\n",
    "\n",
    "print(x)"
   ]
  },
  {
   "cell_type": "markdown",
   "id": "b3f54c38",
   "metadata": {},
   "source": [
    "# Question 3\n",
    "Create a function in python to find all words that are at least 4 characters long in a string. \n",
    "The use of the re.compile() method is mandatory."
   ]
  },
  {
   "cell_type": "code",
   "execution_count": 433,
   "id": "687c48f2",
   "metadata": {},
   "outputs": [
    {
     "name": "stdout",
     "output_type": "stream",
     "text": [
      "['this', 'Abhishek', 'Singh', 'born', 'brought', 'bihar']\n"
     ]
    }
   ],
   "source": [
    "import re\n",
    "string='Hi this is Abhishek Singh. I was born and brought up in bihar'\n",
    "\n",
    "x=re.compile(r'\\b(\\w{4,})\\b')\n",
    "\n",
    "x=x.findall(string)\n",
    "\n",
    "print(x)\n"
   ]
  },
  {
   "cell_type": "markdown",
   "id": "9db500f6",
   "metadata": {},
   "source": [
    "# Question 4\n",
    "Create a function in python to find all three, four, and five character words in a string.\n",
    "The use of the re.compile() method is mandatory."
   ]
  },
  {
   "cell_type": "code",
   "execution_count": 838,
   "id": "6627704c",
   "metadata": {},
   "outputs": [
    {
     "name": "stdout",
     "output_type": "stream",
     "text": [
      "['Aim', 'for', 'Data', 'Real', 'won', 'make', 'more', 'will', 'them', 'abhix']\n"
     ]
    }
   ],
   "source": [
    "import re\n",
    "\n",
    "string_='Aim for simplicity in Data Science. Real creativity won’t make things more complex. Instead, it will simplify them-by abhix'\n",
    "\n",
    "x=re.compile(r'\\b(\\w{3,5})\\b')\n",
    "\n",
    "result=x.findall(string_)\n",
    "\n",
    "print((result))"
   ]
  },
  {
   "cell_type": "markdown",
   "id": "e346e448",
   "metadata": {},
   "source": [
    "# Question 5\n",
    "Create a function in Python to remove the parenthesis in a list of strings. \n",
    "The use of the re.compile() method is mandatory.\n",
    "Sample Text: [\"example (.com)\", \"hr@fliprobo (.com)\", \"github (.com)\", \"Hello (Data Science World)\", \"Data (Scientist)\"]\n",
    "Expected Output:\n",
    "example.com\n",
    "hr@fliprobo.com\n",
    "github.com\n",
    "Hello Data Science World\n",
    "Data Scientist\n"
   ]
  },
  {
   "cell_type": "code",
   "execution_count": 839,
   "id": "389a1693",
   "metadata": {},
   "outputs": [
    {
     "name": "stdout",
     "output_type": "stream",
     "text": [
      "example.com, hr@fliprobo.com, github.com, HelloData Science World, DataScientist\n"
     ]
    }
   ],
   "source": [
    "import re\n",
    "\n",
    "sample_text='example (.com) , hr@fliprobo(.com) , github(.com) , Hello ( Data Science World), Data (Scientist)'\n",
    "\n",
    "pattern=re.compile(r'\\s?\\(\\s?|\\s?\\)\\s?')\n",
    "\n",
    "result=pattern.sub('',sample_text)\n",
    "\n",
    "print(result)\n",
    "\n"
   ]
  },
  {
   "cell_type": "markdown",
   "id": "7c4c1f3b",
   "metadata": {},
   "source": [
    "# Question 6\n",
    "Write a python program to remove the parenthesis area from the text stored in the text file using Regular Expression.\n",
    "Sample Text: [\"example (.com)\", \"hr@fliprobo (.com)\", \"github (.com)\", \"Hello (Data Science World)\", \"Data (Scientist)\"]\n",
    "\n",
    "Expected Output: [\"example\", \"hr@fliprobo\", \"github\", \"Hello\", \"Data\"]\n",
    "\n",
    "Note- Store given sample text in the text file and then to remove the parenthesis area from the text.\n",
    "\n"
   ]
  },
  {
   "cell_type": "code",
   "execution_count": 436,
   "id": "bdd510e3",
   "metadata": {},
   "outputs": [
    {
     "name": "stdout",
     "output_type": "stream",
     "text": [
      "example , hr@fliprobo , github ,  Hello , Data \n"
     ]
    }
   ],
   "source": [
    "import re\n",
    "\n",
    "Text= \"example (.com), hr@fliprobo (.com), github (.com),  Hello (Data Science World), Data (Scientist)\"\n",
    "\n",
    "pattern=re.compile(r'\\([^)]*\\)')\n",
    "\n",
    "result =pattern.sub('',Text)\n",
    "\n",
    "print(result)"
   ]
  },
  {
   "cell_type": "markdown",
   "id": "2c4acca4",
   "metadata": {},
   "source": [
    "# Question 7\n",
    "Write a regular expression in Python to split a string into uppercase letters.\n",
    "\n",
    "Sample text: “ImportanceOfRegularExpressionsInPython”\n",
    "\n",
    "Expected Output: [‘Importance’, ‘Of’, ‘Regular’, ‘Expression’, ‘In’, ‘Python’]\n"
   ]
  },
  {
   "cell_type": "code",
   "execution_count": 437,
   "id": "db3709b5",
   "metadata": {},
   "outputs": [
    {
     "name": "stdout",
     "output_type": "stream",
     "text": [
      "['Importance', 'Of', 'Regular', 'Expressions', 'In', 'Python']\n"
     ]
    }
   ],
   "source": [
    "import re\n",
    "\n",
    "str='ImportanceOfRegularExpressionsInPython'\n",
    "\n",
    "pattern=(r'[A-Z][a-z]*')\n",
    "\n",
    "result=re.findall(pattern,str)\n",
    "\n",
    "print(result)"
   ]
  },
  {
   "cell_type": "markdown",
   "id": "44fd15aa",
   "metadata": {},
   "source": [
    "# Question 8\n",
    "Create a function in python to insert spaces between words starting with numbers.\n",
    "\n",
    "Sample Text: “RegularExpression1IsAn2ImportantTopic3InPython\"\n",
    "    \n",
    "Expected Output: RegularExpression 1IsAn 2ImportantTopic 3InPython\n"
   ]
  },
  {
   "cell_type": "code",
   "execution_count": 438,
   "id": "1dfc6ba5",
   "metadata": {},
   "outputs": [
    {
     "name": "stdout",
     "output_type": "stream",
     "text": [
      "RegularExpression 1IsAn 2ImportantTopic 3InPython\n"
     ]
    }
   ],
   "source": [
    "import re\n",
    "\n",
    "sample=\"RegularExpression1IsAn2ImportantTopic3InPython\"\n",
    "\n",
    "insert_space=r'(?<=\\D)(?=\\d)'\n",
    "\n",
    "split=re.sub(insert_space,\" \",sample)\n",
    "\n",
    "print(split)"
   ]
  },
  {
   "cell_type": "markdown",
   "id": "2f2ba32c",
   "metadata": {},
   "source": [
    "# Question 9\n",
    "Create a function in python to insert spaces between words starting with capital letters or with numbers.\n",
    "\n",
    "Sample Text: “RegularExpression1IsAn2ImportantTopic3InPython\"\n",
    "\n",
    "Expected Output:  RegularExpression 1 IsAn 2 ImportantTopic 3 InPython\n"
   ]
  },
  {
   "cell_type": "code",
   "execution_count": 439,
   "id": "3d920b09",
   "metadata": {},
   "outputs": [
    {
     "name": "stdout",
     "output_type": "stream",
     "text": [
      "RegularExpression 1 IsAn 2 ImportantTopic 3 InPython\n"
     ]
    }
   ],
   "source": [
    "import re\n",
    "\n",
    "sample=\"RegularExpression1IsAn2ImportantTopic3InPython\"\n",
    "\n",
    "insert_space=r'(?<=[0-9])|(?<=\\D)(?=\\d)'\n",
    "\n",
    "split=re.sub(insert_space,' ',sample)\n",
    "\n",
    "print(split)"
   ]
  },
  {
   "cell_type": "markdown",
   "id": "07d156ea",
   "metadata": {},
   "source": [
    "# Question 10\n",
    "Write a python program to extract email address from the text stored in the text file using Regular Expression.\n",
    "\n",
    "Sample Text- Hello my name is Data Science and my email address is xyz@domain.com and alternate email address is xyz.abc@sdomain.domain.com. Please contact us at hr@fliprobo.com for further information. \n",
    "\n",
    "Expected Output: \n",
    "['xyz@domain.com', 'xyz.abc@sdomain.domain.com']\n",
    "['hr@fliprobo.com']\n"
   ]
  },
  {
   "cell_type": "code",
   "execution_count": 440,
   "id": "2d26be42",
   "metadata": {},
   "outputs": [
    {
     "name": "stdout",
     "output_type": "stream",
     "text": [
      "['xyz@domain.com', 'xyz.abc@sdomain.domain.com', 'hr@fliprobo.com']\n"
     ]
    }
   ],
   "source": [
    "import re\n",
    "\n",
    "sample='Hello my name is Data Science and my email address is xyz@domain.com and alternate email address is xyz.abc@sdomain.domain.com. Please contact us at hr@fliprobo.com for further information.'\n",
    "\n",
    "extract=(r'\\b[A-Za-z0-9._%+-]+@[A-Za-z0-9.-]+\\.[A-Z|a-z]{2,}\\b')\n",
    "\n",
    "email=re.findall(extract,sample)\n",
    "\n",
    "print(email)"
   ]
  },
  {
   "cell_type": "markdown",
   "id": "1fa386eb",
   "metadata": {},
   "source": [
    "# Question 11\n",
    "Write a Python program to match a string that contains only upper and lowercase letters, numbers, and underscores"
   ]
  },
  {
   "cell_type": "code",
   "execution_count": 442,
   "id": "e71b8703",
   "metadata": {},
   "outputs": [
    {
     "name": "stdout",
     "output_type": "stream",
     "text": [
      "string_match\n",
      "string_match\n",
      "string_not_match\n",
      "string_match\n"
     ]
    }
   ],
   "source": [
    "import re\n",
    "\n",
    "input_str=['ABHISHEK','code_01','@bhi','_DataScience_']\n",
    "\n",
    "\n",
    "for str in input_str:\n",
    "    pattern=r'^[a-zA-Z0-9_]+$'\n",
    "    if re.match(pattern,str):\n",
    "        print('string_match')\n",
    "    else:\n",
    "        print('string_not_match')"
   ]
  },
  {
   "cell_type": "markdown",
   "id": "a65e23c4",
   "metadata": {},
   "source": [
    "# Question 12\n",
    "Write a Python program where a string will start with a specific number. "
   ]
  },
  {
   "cell_type": "code",
   "execution_count": 837,
   "id": "e79fb4df",
   "metadata": {},
   "outputs": [
    {
     "name": "stdout",
     "output_type": "stream",
     "text": [
      "not a number\n",
      "not a number\n",
      "not a number\n",
      "not a number\n",
      "not a number\n",
      "not a number\n",
      "not a number\n",
      "not a number\n",
      "not a number\n",
      "\"2309\" starts with the number \n"
     ]
    }
   ],
   "source": [
    "import re\n",
    "\n",
    "def match_number(input_):\n",
    "    pattern = r'^2309'\n",
    "    if re.findall(pattern, input_):\n",
    "        return True\n",
    "    else:\n",
    "        return False\n",
    "\n",
    "input_=['hello','this',' is', 'abhishek', 'and', 'my', 'Batch', 'Number', 'is', '2309']\n",
    "specific_number = \"2309\"\n",
    "\n",
    "for string in input_:\n",
    "    if match_number(string):\n",
    "        print(f'\"{string}\" starts with the number ')\n",
    "    else:\n",
    "        print('not a number')\n",
    "   "
   ]
  },
  {
   "cell_type": "markdown",
   "id": "89f89f72",
   "metadata": {},
   "source": [
    "# Question 13\n",
    "Write a Python program to remove leading zeros from an IP address"
   ]
  },
  {
   "cell_type": "code",
   "execution_count": 1135,
   "id": "9ca66f5f",
   "metadata": {},
   "outputs": [
    {
     "name": "stdout",
     "output_type": "stream",
     "text": [
      "Cleaned IP Address: 191.10.1.1 & 232.23.1.2\n"
     ]
    }
   ],
   "source": [
    "import re\n",
    "\n",
    "ip_address = \"191.010.001.001 & 232.023.001.002\"\n",
    "\n",
    "def remove_leading_zeros(ip_address):\n",
    "    pattern = r'\\b0+(\\d+)\\b'\n",
    "    \n",
    "    cleaned_ip = re.sub(pattern, r'\\1', ip_address)\n",
    "    \n",
    "    return cleaned_ip\n",
    "\n",
    "cleaned_ip = remove_leading_zeros(ip_address)\n",
    "print(\"Cleaned IP Address:\", cleaned_ip)\n"
   ]
  },
  {
   "cell_type": "markdown",
   "id": "92ae94ee",
   "metadata": {},
   "source": [
    "# Question 14-\n",
    "Write a regular expression in python to match a date string in the form of Month name followed by day number and year stored in a text file.\n",
    "\n",
    "Sample text :  ' On August 15th 1947 that India was declared independent from British colonialism, and the reins of control were handed over to the leaders of the Country’.\n",
    "    \n",
    "Expected Output- August 15th 1947\n",
    "\n",
    "Note- Store given sample text in the text file and then extract the date string asked format.\n"
   ]
  },
  {
   "cell_type": "code",
   "execution_count": 1109,
   "id": "298d82fd",
   "metadata": {},
   "outputs": [
    {
     "name": "stdout",
     "output_type": "stream",
     "text": [
      "('August', '15th', '1947')\n"
     ]
    }
   ],
   "source": [
    "import re\n",
    "\n",
    "sample_text = 'On August 15th 1947 that India was declared independent from British colonialism and the reins of control were handed over to the leaders of the Country'\n",
    "\n",
    "x = re.compile(r'\\b(January|February|March|April|May|June|July|August|September|October|November|December)\\s+(\\d{1,2}(?:st|nd|rd|th)?)\\s+(\\d{4})\\b')\n",
    "\n",
    "dates = x.findall(sample_text)\n",
    "for date in dates:\n",
    "    print((date))\n",
    "       "
   ]
  },
  {
   "cell_type": "markdown",
   "id": "44332ae9",
   "metadata": {},
   "source": [
    "# Question 15\n",
    "Write a Python program to search some literals strings in a string. \n",
    "\n",
    "Sample text:'The quick brown fox jumps over the lazy dog.'\n",
    "\n",
    "Searched words : 'fox', 'dog', 'horse'\n"
   ]
  },
  {
   "cell_type": "code",
   "execution_count": 589,
   "id": "82c402e5",
   "metadata": {},
   "outputs": [
    {
     "name": "stdout",
     "output_type": "stream",
     "text": [
      "['fox', 'dog']\n"
     ]
    }
   ],
   "source": [
    "import re\n",
    "\n",
    "sample_text='The quick brown fox jumps over the lazy dog.'\n",
    "\n",
    "x=re.compile(r'(fox|dog|horse)')\n",
    "\n",
    "searched_word=x.findall(sample_text)\n",
    "\n",
    "print(searched_word)"
   ]
  },
  {
   "cell_type": "markdown",
   "id": "fe5a58fc",
   "metadata": {},
   "source": [
    "# Question 16\n",
    "Write a Python program to search a literals string in a string and also find the location within the original string where the pattern occurs\n",
    "\n",
    "Sample text : 'The quick brown fox jumps over the lazy dog.'\n",
    "    \n",
    "Searched words : 'fox'\n"
   ]
  },
  {
   "cell_type": "code",
   "execution_count": 591,
   "id": "636862eb",
   "metadata": {},
   "outputs": [
    {
     "name": "stdout",
     "output_type": "stream",
     "text": [
      "<re.Match object; span=(16, 19), match='fox'>\n"
     ]
    }
   ],
   "source": [
    "import re\n",
    "\n",
    "sample_text='The quick brown fox jumps over the lazy dog.'\n",
    "\n",
    "x=re.compile(r'(fox)')\n",
    "\n",
    "searched_word=x.search(sample_text)\n",
    "\n",
    "print(searched_word)"
   ]
  },
  {
   "cell_type": "markdown",
   "id": "a9b465b9",
   "metadata": {},
   "source": [
    "# Question 17\n",
    "Write a Python program to find the substrings within a string.\n",
    "\n",
    "Sample text : 'Python exercises, PHP exercises, C# exercises'\n",
    "    \n",
    "Pattern : 'exercises'.\n",
    "\n",
    "    "
   ]
  },
  {
   "cell_type": "code",
   "execution_count": 593,
   "id": "b2218f17",
   "metadata": {},
   "outputs": [
    {
     "name": "stdout",
     "output_type": "stream",
     "text": [
      "['exercises', 'exercises', 'exercises']\n"
     ]
    }
   ],
   "source": [
    "import  re\n",
    "\n",
    "sample_text='Python exercises, PHP exercises, C# exercises'\n",
    "\n",
    "pattern='exercises'\n",
    "\n",
    "substring=re.findall(pattern,sample_text)\n",
    "\n",
    "print(substring)"
   ]
  },
  {
   "cell_type": "markdown",
   "id": "3452ae33",
   "metadata": {},
   "source": [
    "# Question 18\n",
    "Write a Python program to find the occurrence and position of the substrings within a string."
   ]
  },
  {
   "cell_type": "code",
   "execution_count": 598,
   "id": "0b3cd67b",
   "metadata": {},
   "outputs": [
    {
     "name": "stdout",
     "output_type": "stream",
     "text": [
      "<re.Match object; span=(7, 16), match='exercises'>\n"
     ]
    }
   ],
   "source": [
    "import  re\n",
    "\n",
    "sample_text='Python exercises, PHP exercises, C# exercises'\n",
    "\n",
    "pattern='exercises'\n",
    "\n",
    "substring=re.search(pattern,sample_text)\n",
    "\n",
    "print(substring)"
   ]
  },
  {
   "cell_type": "markdown",
   "id": "6ef214a4",
   "metadata": {},
   "source": [
    "# Question 19\n",
    "Write a Python program to convert a date of yyyy-mm-dd format to dd-mm-yyyy format"
   ]
  },
  {
   "cell_type": "code",
   "execution_count": 673,
   "id": "a146f191",
   "metadata": {},
   "outputs": [
    {
     "name": "stdout",
     "output_type": "stream",
     "text": [
      "\n",
      "Original date Format: 2023-10-01\n",
      "\n",
      "New date Format: 01-10-2023\n"
     ]
    }
   ],
   "source": [
    "import re\n",
    "import datetime\n",
    "from datetime import datetime\n",
    "\n",
    "today='2023-10-01'\n",
    "\n",
    "def date_format(date):\n",
    "    return re.sub(r'(\\d{4})-(\\d{1,2})-(\\d{1,2})', '\\\\3-\\\\2-\\\\1',date)\n",
    "print(\"\\nOriginal date Format:\",today)\n",
    "print(\"\\nNew date Format:\",date_format(today))\n",
    "\n"
   ]
  },
  {
   "cell_type": "markdown",
   "id": "47d63959",
   "metadata": {},
   "source": [
    "# Question 19 #Alternate Method"
   ]
  },
  {
   "cell_type": "code",
   "execution_count": 672,
   "id": "78cd15a6",
   "metadata": {},
   "outputs": [
    {
     "name": "stdout",
     "output_type": "stream",
     "text": [
      "Original date in YYY-MM-DD Format: 2023-10-01\n",
      "New date in DD-MM-YYYY Format: 01-10-2023\n"
     ]
    }
   ],
   "source": [
    "import re\n",
    "from datetime import datetime\n",
    "\n",
    "today = datetime.now().date()\n",
    "\n",
    "def date_format(dt):\n",
    "    date = dt.strftime('%Y-%m-%d')  \n",
    "    return re.sub(r'(\\d{4})-(\\d{1,2})-(\\d{1,2})', r'\\3-\\2-\\1', date)\n",
    "\n",
    "print(\"Original date in YYY-MM-DD Format:\", today)\n",
    "print(\"New date in DD-MM-YYYY Format:\", date_format(today))\n"
   ]
  },
  {
   "cell_type": "markdown",
   "id": "d941a862",
   "metadata": {},
   "source": [
    "# Question 20\n",
    "Create a function in python to find all decimal numbers with a precision of 1 or 2 in a string.\n",
    "\n",
    " The use of the re.compile() method is mandatory.\n",
    "\n",
    "Sample Text: \"01.12 0132.123 2.31875 145.8 3.01 27.25 0.25\"\n",
    "\n",
    "Expected Output: ['01.12', '145.8', '3.01', '27.25', '0.25']\n"
   ]
  },
  {
   "cell_type": "code",
   "execution_count": 675,
   "id": "99ecd31c",
   "metadata": {},
   "outputs": [
    {
     "name": "stdout",
     "output_type": "stream",
     "text": [
      "['01.12', '145.8', '3.01', '27.25', '0.25']\n"
     ]
    }
   ],
   "source": [
    "import re\n",
    "\n",
    "sample_text=\"01.12 0132.123 2.31875 145.8 3.01 27.25 0.25\"\n",
    "\n",
    "x=re.compile(r'\\b\\d+\\.\\d{1,2}\\b')\n",
    "\n",
    "result=x.findall(sample_text)\n",
    "\n",
    "print(result)\n",
    "\n"
   ]
  },
  {
   "cell_type": "markdown",
   "id": "cd049294",
   "metadata": {},
   "source": [
    "# Question 21\n",
    "Write a Python program to separate and print the numbers and their position of a given string."
   ]
  },
  {
   "cell_type": "code",
   "execution_count": 683,
   "id": "ba9359a1",
   "metadata": {},
   "outputs": [
    {
     "name": "stdout",
     "output_type": "stream",
     "text": [
      "\n",
      "Number: 123 \n",
      "Position: 6\n",
      "\n",
      "Number: 456 \n",
      "Position: 16\n",
      "\n",
      "Number: 789 \n",
      "Position: 27\n"
     ]
    }
   ],
   "source": [
    "import re\n",
    "\n",
    "sample_text = \"Hello 123 World 456 Python 789\"\n",
    "pattern = r'\\d+'\n",
    "\n",
    "def extract(text):\n",
    "    matches = re.finditer(pattern, text)\n",
    "    return matches\n",
    "\n",
    "numbers = extract(sample_text)\n",
    "\n",
    "for match in numbers:\n",
    "    number = match.group()  \n",
    "    position = match.start()  \n",
    "    print(\"\\nNumber:\", number, \"\\nPosition:\", position)\n"
   ]
  },
  {
   "cell_type": "markdown",
   "id": "a78bb64d",
   "metadata": {},
   "source": [
    "# Question 22\n",
    "Write a regular expression in python program to extract maximum/largest numeric value from a string.\n",
    "\n",
    "Sample Text:  'My marks in each semester are: 947, 896, 926, 524, 734, 950, 642'\n",
    "\n",
    "Expected Output: 950\n"
   ]
  },
  {
   "cell_type": "code",
   "execution_count": 836,
   "id": "6737ac89",
   "metadata": {},
   "outputs": [
    {
     "name": "stdout",
     "output_type": "stream",
     "text": [
      "Maximum Number: 950\n"
     ]
    }
   ],
   "source": [
    "import re\n",
    "\n",
    "sample_text = 'My marks in each semester are: 947, 896, 926, 524, 734, 950, 642'\n",
    "\n",
    "pattern = r'\\b\\d+\\b'\n",
    "\n",
    "def maximum_number(text):\n",
    "    \n",
    "    num = re.findall(pattern, text)\n",
    "    if num:\n",
    "        return max(map(int, num))\n",
    "    else:\n",
    "        return None\n",
    "\n",
    "number = maximum_number(sample_text)\n",
    "\n",
    "print(\"Maximum Number:\", number)\n"
   ]
  },
  {
   "cell_type": "markdown",
   "id": "efcdbc0e",
   "metadata": {},
   "source": [
    "# Alternate method of Question 22"
   ]
  },
  {
   "cell_type": "code",
   "execution_count": 719,
   "id": "99198497",
   "metadata": {},
   "outputs": [
    {
     "name": "stdout",
     "output_type": "stream",
     "text": [
      "Maximum Number: 950\n"
     ]
    }
   ],
   "source": [
    "import re\n",
    "\n",
    "sample_text = 'My marks in each semester are: 947, 896, 926, 524, 734, 950, 642'\n",
    "\n",
    "pattern = r'\\b\\d+\\b'\n",
    "\n",
    "numbers = re.findall(pattern, sample_text)\n",
    "\n",
    "if numbers:\n",
    "    numbers = list(map(int, numbers))\n",
    "    maximum_number = max(numbers)\n",
    "    print(\"Maximum Number:\", maximum_number)\n",
    "else:\n",
    "    print(\"No numbers found in the text.\")\n"
   ]
  },
  {
   "cell_type": "markdown",
   "id": "5da80b49",
   "metadata": {},
   "source": [
    "# Question 23-\n",
    "Create a function in python to insert spaces between words starting with capital letters.\n",
    "\n",
    "Sample Text: “RegularExpressionIsAnImportantTopicInPython\"\n",
    "\n",
    "Expected Output: Regular Expression Is An Important Topic In Python\n"
   ]
  },
  {
   "cell_type": "code",
   "execution_count": 820,
   "id": "630b547a",
   "metadata": {},
   "outputs": [
    {
     "name": "stdout",
     "output_type": "stream",
     "text": [
      " Regular Expression Is An Important Topic In Python\n"
     ]
    }
   ],
   "source": [
    "import re\n",
    "\n",
    "sample_text='RegularExpressionIsAnImportantTopicInPython'\n",
    "\n",
    "pattern=r'([A-Z])'\n",
    "\n",
    "result=re.sub(pattern,r' \\1',sample_text)\n",
    "\n",
    "print(result)"
   ]
  },
  {
   "cell_type": "markdown",
   "id": "2bf821c2",
   "metadata": {},
   "source": [
    "# Alternate Method"
   ]
  },
  {
   "cell_type": "code",
   "execution_count": 835,
   "id": "49b18df7",
   "metadata": {},
   "outputs": [
    {
     "name": "stdout",
     "output_type": "stream",
     "text": [
      " Regular Expression Is An Important Topic In Python\n"
     ]
    }
   ],
   "source": [
    "import re\n",
    "\n",
    "sample_text='RegularExpressionIsAnImportantTopicInPython'\n",
    "\n",
    "split=re.sub(r'[A-Z]', lambda x: ' ' + x.group(0),sample_text)\n",
    "\n",
    "print(split)\n",
    "\n"
   ]
  },
  {
   "cell_type": "markdown",
   "id": "571cff03",
   "metadata": {},
   "source": [
    "# Question 24\n",
    "Python regex to find sequences of one upper case letter followed by lower case letters"
   ]
  },
  {
   "cell_type": "code",
   "execution_count": 840,
   "id": "f3f67681",
   "metadata": {},
   "outputs": [
    {
     "name": "stdout",
     "output_type": "stream",
     "text": [
      "['Regular', 'Expression', 'Is', 'An', 'Important', 'Topic', 'In', 'Python']\n"
     ]
    }
   ],
   "source": [
    "import re\n",
    "\n",
    "sample_text = 'RegularExpressionIsAnImportantTopicInPython'\n",
    "\n",
    "pattern=r'[A-Z][a-z]+'\n",
    "\n",
    "case=re.findall(pattern,sample_text)\n",
    "\n",
    "print(case)\n",
    "\n",
    "\n"
   ]
  },
  {
   "cell_type": "markdown",
   "id": "6d393b28",
   "metadata": {},
   "source": [
    "# Question 25-\n",
    "Write a Python program to remove continuous duplicate words from Sentence using Regular Expression.\n",
    "\n",
    "Sample Text: \"Hello hello world world\"\n",
    "    \n",
    "Expected Output: Hello hello world\n"
   ]
  },
  {
   "cell_type": "code",
   "execution_count": 938,
   "id": "73ea5878",
   "metadata": {},
   "outputs": [
    {
     "name": "stdout",
     "output_type": "stream",
     "text": [
      "Hello hello world\n"
     ]
    }
   ],
   "source": [
    "import re\n",
    "\n",
    "sample_text='Hello hello world world'\n",
    "\n",
    "pattern=r'\\b(\\w+)( \\1)+\\b'\n",
    "\n",
    "removed=re.sub(pattern, r'\\1', sample_text)\n",
    "\n",
    "print(removed)\n"
   ]
  },
  {
   "cell_type": "markdown",
   "id": "98f4ae5b",
   "metadata": {},
   "source": [
    "# Question 26\n",
    "Write a python program using RegEx to accept string ending with alphanumeric character"
   ]
  },
  {
   "cell_type": "code",
   "execution_count": 994,
   "id": "49622822",
   "metadata": {},
   "outputs": [
    {
     "name": "stdout",
     "output_type": "stream",
     "text": [
      "\n",
      "Alphanumeric strings: ['singh07']\n"
     ]
    }
   ],
   "source": [
    "import re\n",
    "\n",
    "def extract_alphanumeric(strings):\n",
    "    regex = r'\\b[a-zA-Z0-9]+\\b'\n",
    "    alphanumeric_strings = []\n",
    "    for string in strings:\n",
    "        matches = re.findall(regex, string)\n",
    "        if matches:\n",
    "            alphanumeric_strings.extend(matches) \n",
    "            return alphanumeric_strings\n",
    "\n",
    "strings = ['abhi_shek', 'singh07', 'abhi_']\n",
    "alphanumeric_strings = extract_alphanumeric(strings)\n",
    "print('\\nAlphanumeric string:', alphanumeric_strings)\n"
   ]
  },
  {
   "cell_type": "markdown",
   "id": "39d54ce0",
   "metadata": {},
   "source": [
    "# Question 27\n",
    "Write a python program using RegEx to extract the hashtags.\n",
    "\n",
    "Sample Text:  \"\"\"RT @kapil_kausik: #Doltiwal I mean #xyzabc is \"hurt\" by #Demonetization as the same has rendered USELESS <ed><U+00A0><U+00BD><ed><U+00B1><U+0089> \"acquired funds\" No wo\"\"\"\n",
    "\n",
    "Expected Output: ['#Doltiwal', '#xyzabc', '#Demonetization']\n"
   ]
  },
  {
   "cell_type": "code",
   "execution_count": 1027,
   "id": "5e8bf3f9",
   "metadata": {},
   "outputs": [
    {
     "name": "stdout",
     "output_type": "stream",
     "text": [
      "['#Doltiwal', '#xyzabc', '#Demonetization']\n"
     ]
    }
   ],
   "source": [
    "import re\n",
    "\n",
    "sample_text='''RT @kapil_kausik: #Doltiwal I mean #xyzabc is \"hurt\" by #Demonetization as the same has rendered USELESS <U+00A0><U+00BD><U+00B1><U+0089> \"acquired funds\" No wo'''\n",
    "\n",
    "x=re.findall(r'#\\w+',sample_text)\n",
    "\n",
    "print(x)\n"
   ]
  },
  {
   "cell_type": "markdown",
   "id": "a72d260f",
   "metadata": {},
   "source": [
    "# Question 28\n",
    "Write a python program using RegEx to remove <U+..> like symbols\n",
    "Check the below sample text, there are strange symbols something of the sort <U+..> all over the place. You need to come up with a general Regex expression that will cover all such symbols.\n",
    "\n",
    "Sample Text: \"@Jags123456 Bharat band on 28??<ed><U+00A0><U+00BD><ed><U+00B8><U+0082>Those who  are protesting #demonetization  are all different party leaders\"\n",
    "\n",
    "Expected Output: @Jags123456 Bharat band on 28??<ed><ed>Those who  are protesting #demonetization  are all different party leaders\n"
   ]
  },
  {
   "cell_type": "code",
   "execution_count": 1100,
   "id": "f5219fc7",
   "metadata": {},
   "outputs": [
    {
     "name": "stdout",
     "output_type": "stream",
     "text": [
      "@Jags123456 Bharat band on 28??Those who are protesting #demonetization are all different party leaders\n"
     ]
    }
   ],
   "source": [
    "import re\n",
    "\n",
    "sample_text='@Jags123456 Bharat band on 28??<U+00A0><U+00BD><U+00B8><U+0082>Those who are protesting #demonetization are all different party leaders'\n",
    "\n",
    "pattern=re.compile('<U\\+\\w{2,4}>')\n",
    "\n",
    "expected_output=pattern.sub('',sample_text)\n",
    "\n",
    "print(expected_output)\n"
   ]
  },
  {
   "cell_type": "markdown",
   "id": "70813c25",
   "metadata": {},
   "source": [
    "# Question 29\n",
    "Write a python program to extract dates from the text stored in the text file.\n",
    "\n",
    "Sample Text: Ron was born on 12-09-1992 and he was admitted to school 15-12-1999.\n",
    "\n",
    "Note- Store this sample text in the file and then extract dates.\n"
   ]
  },
  {
   "cell_type": "code",
   "execution_count": 1130,
   "id": "af157127",
   "metadata": {},
   "outputs": [
    {
     "name": "stdout",
     "output_type": "stream",
     "text": [
      "['12-09-1992', '15-12-1999']\n"
     ]
    }
   ],
   "source": [
    "import regex as re\n",
    "\n",
    "sample_text = 'Ron was born on 12-09-1992 and he was admitted to school 15-12-1999.'\n",
    "\n",
    "date_pattern = r'\\b(\\d{1,2})-(\\d{1,2})-(\\d{4})\\b'\n",
    "\n",
    "extracted_dates = re.findall(date_pattern, sample_text)\n",
    "\n",
    "formatted_dates = ['{}-{}-{}'.format(day, month, year) for day, month, year in extracted_dates]\n",
    "\n",
    "print(formatted_dates)\n"
   ]
  },
  {
   "cell_type": "markdown",
   "id": "155fdf53",
   "metadata": {},
   "source": [
    "# Question 30\n",
    "Create a function in python to remove all words from a string of length between 2 and 4.\n",
    "\n",
    "The use of the re.compile() method is mandatory.\n",
    "\n",
    "Sample Text: \"The following example creates an ArrayList with a capacity of 50 elements. 4 elements are then added to the ArrayList and the ArrayList is trimmed accordingly.\"\n",
    "\n",
    "Expected Output:  following example creates ArrayList a capacity elements. 4 elements added ArrayList ArrayList trimmed accordingly.\n",
    "\n"
   ]
  },
  {
   "cell_type": "code",
   "execution_count": 1136,
   "id": "da08f8cd",
   "metadata": {},
   "outputs": [
    {
     "name": "stdout",
     "output_type": "stream",
     "text": [
      " following example creates  ArrayList  a capacity   elements. 4 elements   added   ArrayList   ArrayList  trimmed accordingly\n"
     ]
    }
   ],
   "source": [
    "import regex as re\n",
    "\n",
    "sample_text='The following example creates an ArrayList with a capacity of 50 elements. 4 elements are then added to the ArrayList and the ArrayList is trimmed accordingly'\n",
    "\n",
    "remove=re.compile(r'\\b\\w{2,4}\\b')\n",
    "\n",
    "result=remove.sub('',sample_text)\n",
    "\n",
    "print(result)"
   ]
  },
  {
   "cell_type": "markdown",
   "id": "b3874f9b",
   "metadata": {},
   "source": [
    "#                                        -----------THANK-YOU-----------"
   ]
  },
  {
   "cell_type": "code",
   "execution_count": null,
   "id": "131bf198",
   "metadata": {},
   "outputs": [],
   "source": []
  }
 ],
 "metadata": {
  "kernelspec": {
   "display_name": "Python 3 (ipykernel)",
   "language": "python",
   "name": "python3"
  },
  "language_info": {
   "codemirror_mode": {
    "name": "ipython",
    "version": 3
   },
   "file_extension": ".py",
   "mimetype": "text/x-python",
   "name": "python",
   "nbconvert_exporter": "python",
   "pygments_lexer": "ipython3",
   "version": "3.10.9"
  }
 },
 "nbformat": 4,
 "nbformat_minor": 5
}
