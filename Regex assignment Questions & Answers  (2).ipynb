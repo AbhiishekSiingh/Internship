{
 "cells": [
  {
   "cell_type": "markdown",
   "id": "43ec0db2",
   "metadata": {},
   "source": [
    "# Abhishek Kumar\n",
    "Internship No. - DS2309"
   ]
  },
  {
   "cell_type": "markdown",
   "id": "92406b8f",
   "metadata": {},
   "source": [
    "# Regular Expression (practice)"
   ]
  },
  {
   "cell_type": "markdown",
   "id": "ae1bc89e",
   "metadata": {},
   "source": [
    "# Question 1- Write a RegEx pattern in python program to check that a string contains only a certain set of characters\n",
    " (in this case a-z, A-Z and 0-9)."
   ]
  },
  {
   "cell_type": "code",
   "execution_count": 106,
   "id": "857b0b8e",
   "metadata": {},
   "outputs": [
    {
     "name": "stdout",
     "output_type": "stream",
     "text": [
      "['H', 'i', 't', 'h', 'i', 's', 'i', 's', 'A', 'B', 'H', 'I', 'S', 'H', 'E', 'K', 'a', 'n', 'd', 'm', 'y', 'b', 'a', 't', 'c', 'h', 'n', 'u', 'm', 'b', 'e', 'r', 'i', 's', '2', '3', '0', '9', 'M', 'y', 'p', 'a', 'c', 'k', 'a', 'g', 'e', 'i', 's', '5', '5', '0', 'k', 'L', 'P', 'A']\n"
     ]
    }
   ],
   "source": [
    "import regex as re\n",
    "\n",
    "profile=\"Hi this is ABHISHEK and my batch number is 2309. My package is $550k LPA\"\n",
    "pattern=\"[a-zA-Z0-9]\"\n",
    "\n",
    "result=re.findall(pattern,profile)\n",
    "print(result)"
   ]
  },
  {
   "cell_type": "markdown",
   "id": "02493b4a",
   "metadata": {},
   "source": [
    "# Question 2- Write a RegEx pattern that matches a string that has (an) a followed by zero or more b's"
   ]
  },
  {
   "cell_type": "code",
   "execution_count": 241,
   "id": "d66a36b1",
   "metadata": {},
   "outputs": [
    {
     "name": "stdout",
     "output_type": "stream",
     "text": [
      "Match is not found\n",
      "Match is found\n",
      "Match is found\n",
      "Match is found\n",
      "Match is found\n",
      "Match is not found\n"
     ]
    }
   ],
   "source": [
    "import re\n",
    "text=[\"a\",\"an\",\"anb\",\"anbb\",\"anbbb\",\"anbhi\"]\n",
    "pattern=\"^an(b*)$\"\n",
    "\n",
    "for txt in text:\n",
    "    if re.findall(pattern,txt):\n",
    "        print(\"Match is found\")\n",
    "    else:\n",
    "        print(\"Match is not found\")"
   ]
  },
  {
   "cell_type": "markdown",
   "id": "c67479f0",
   "metadata": {},
   "source": [
    "# Question 3-  Write a RegEx pattern that matches a string that has (an) a followed by one or more b's"
   ]
  },
  {
   "cell_type": "code",
   "execution_count": 235,
   "id": "2cdd9cb9",
   "metadata": {},
   "outputs": [
    {
     "name": "stdout",
     "output_type": "stream",
     "text": [
      "match not found\n",
      "match found\n",
      "match found\n",
      "match found\n"
     ]
    }
   ],
   "source": [
    "import re\n",
    "\n",
    "pattern=\"^an(b+)\"\n",
    "def text_match(msg):\n",
    "    \n",
    "    if re.search(pattern,msg):\n",
    "        return (\"match found\")\n",
    "    else:\n",
    "        return (\"match not found\")\n",
    "        \n",
    "print(text_match(\"b\"))\n",
    "print(text_match(\"anb\"))\n",
    "print(text_match(\"anbb\"))\n",
    "print(text_match(\"anbbB\"))\n",
    "\n",
    "\n",
    "    "
   ]
  },
  {
   "cell_type": "markdown",
   "id": "72a7a9ce",
   "metadata": {},
   "source": [
    "# Question 4- Write a RegEx pattern that matches a string that has (an) a followed by zero or one 'b'"
   ]
  },
  {
   "cell_type": "code",
   "execution_count": 247,
   "id": "c22c4f86",
   "metadata": {},
   "outputs": [
    {
     "name": "stdout",
     "output_type": "stream",
     "text": [
      "match not found\n",
      "match not found\n",
      "match not found\n",
      "match not found\n",
      "match found\n",
      "match found\n"
     ]
    }
   ],
   "source": [
    "import re\n",
    "\n",
    "target_string=[\"z\",\" x\", \"y\", \"a\", \"an\", \"anb\"]\n",
    "\n",
    "for string in target_string:\n",
    "    if re.findall(\"^an(b?)\",string):\n",
    "        print(\"match found\")\n",
    "    else:\n",
    "        print(\"match not found\")\n",
    "    \n",
    "\n",
    "\n"
   ]
  },
  {
   "cell_type": "markdown",
   "id": "3c8cb3cf",
   "metadata": {},
   "source": [
    "# Question 5- Write a RegEx pattern in python program that matches a string that has (an) a followed by three 'b'."
   ]
  },
  {
   "cell_type": "code",
   "execution_count": 355,
   "id": "052d3170",
   "metadata": {},
   "outputs": [
    {
     "name": "stdout",
     "output_type": "stream",
     "text": [
      "match not found\n",
      "match not found\n",
      "match not found\n",
      "match found\n"
     ]
    }
   ],
   "source": [
    "import re\n",
    "\n",
    "string_=[\"an\",\"anb\",\"anbb\",\"anbbb\"]\n",
    "\n",
    "pattern=\"anb{3}\"\n",
    "\n",
    "for match in string_:\n",
    "    if  re.match(pattern,match):\n",
    "        print(\"match found\")\n",
    "    else:\n",
    "        print(\"match not found\")\n",
    "    \n",
    "\n"
   ]
  },
  {
   "cell_type": "code",
   "execution_count": 233,
   "id": "ad26d027",
   "metadata": {},
   "outputs": [
    {
     "name": "stdout",
     "output_type": "stream",
     "text": [
      "<re.Match object; span=(21, 26), match='anbbb'>\n"
     ]
    }
   ],
   "source": [
    "#alternate method \n",
    "import re\n",
    "\n",
    "string_= \"find an string match anbbb\"\n",
    "\n",
    "result=re.search(\"anbbb\",string_)\n",
    "\n",
    "print(result)"
   ]
  },
  {
   "cell_type": "markdown",
   "id": "b5ae35f2",
   "metadata": {},
   "source": [
    "# Question 6- Write a RegEx pattern in python program that matches a string that has an a followed by two to three 'b'"
   ]
  },
  {
   "cell_type": "code",
   "execution_count": 234,
   "id": "c2094d40",
   "metadata": {},
   "outputs": [
    {
     "name": "stdout",
     "output_type": "stream",
     "text": [
      "Not matched!\n",
      "Found a match!\n"
     ]
    }
   ],
   "source": [
    "\n",
    "import re\n",
    "\n",
    "def text_match(text):\n",
    "        patterns = 'ab{2,3}'\n",
    "        if re.search(patterns,  text):\n",
    "                return 'Found a match!'\n",
    "        else:\n",
    "                return('Not matched!')\n",
    "print(text_match(\"ab\"))\n",
    "print(text_match(\"aabbbbbc\"))\n"
   ]
  },
  {
   "cell_type": "markdown",
   "id": "90b5d12f",
   "metadata": {},
   "source": [
    "# Question 7- Write a Python program that matches a string that has an 'a' followed by anything, ending in 'b'."
   ]
  },
  {
   "cell_type": "code",
   "execution_count": 270,
   "id": "1bb7f4b8",
   "metadata": {},
   "outputs": [
    {
     "name": "stdout",
     "output_type": "stream",
     "text": [
      "string not match\n",
      "string not match\n",
      "string not match\n",
      "string match\n",
      "string not match\n",
      "string match\n",
      "string match\n"
     ]
    }
   ],
   "source": [
    "import regex as re\n",
    "\n",
    "string_to_match=['ab','Abhi','abhi','arnab','araB','aRab','ar09765Adfb']\n",
    "\n",
    "\n",
    "for str in  string_to_match:\n",
    "    pattern='^a\\w+b$'\n",
    "    if re.findall(pattern,str):\n",
    "        print('string match')\n",
    "    else:\n",
    "        print('string not match')"
   ]
  },
  {
   "cell_type": "markdown",
   "id": "6e4bd719",
   "metadata": {},
   "source": [
    "# Question 8- Write a RegEx pattern in python program that matches a word at the beginning of a string."
   ]
  },
  {
   "cell_type": "code",
   "execution_count": 348,
   "id": "6c6d66b9",
   "metadata": {},
   "outputs": [
    {
     "name": "stdout",
     "output_type": "stream",
     "text": [
      "string match\n",
      "string match\n",
      "string not match\n",
      "string match\n"
     ]
    }
   ],
   "source": [
    "import regex as re\n",
    "\n",
    "name_to_match=['abhi','abhishek','singh','Ashish']\n",
    "\n",
    "for name in word_to_match:\n",
    "    pattern=r'^A(=?)'\n",
    "    if re.match(pattern,name,re.IGNORECASE):\n",
    "        print('string match')\n",
    "    else:\n",
    "        print('string not match')"
   ]
  },
  {
   "cell_type": "markdown",
   "id": "96c01abd",
   "metadata": {},
   "source": [
    "# Question 9- Write a RegEx pattern in python program that matches a word at the end of a string."
   ]
  },
  {
   "cell_type": "code",
   "execution_count": 357,
   "id": "5bb9ef11",
   "metadata": {},
   "outputs": [
    {
     "name": "stdout",
     "output_type": "stream",
     "text": [
      "match found\n",
      "match not  found\n",
      "match found\n",
      "match found\n"
     ]
    }
   ],
   "source": [
    "import re\n",
    "\n",
    "string_1=['abhishek','abhi','Abhishek','ABHISHEK']\n",
    "\n",
    "\n",
    "for name in string_1:\n",
    "    if re.search('k$',name,flags=re.IGNORECASE):\n",
    "        print('match found')\n",
    "    else:\n",
    "        print('match not  found')\n"
   ]
  },
  {
   "cell_type": "markdown",
   "id": "c744ed50",
   "metadata": {},
   "source": [
    "# Question 10- Write a RegEx pattern in python program to find all words that are 4 digits long in a string.\n",
    "Sample text- &#39;01 0132 231875 1458 301 2725.&#39;\n",
    "\n",
    "Expected output- [&#39;0132&#39;, &#39;1458&#39;, &#39;2725&#39;]\n"
   ]
  },
  {
   "cell_type": "code",
   "execution_count": 700,
   "id": "ee783afe",
   "metadata": {},
   "outputs": [
    {
     "name": "stdout",
     "output_type": "stream",
     "text": [
      "['0132', '1458', '2725']\n"
     ]
    }
   ],
   "source": [
    "import regex as re\n",
    "\n",
    "sample_text='01 0132 231875 1458 301 2725'\n",
    "\n",
    "pattern=(r'\\b\\d{4}\\b')\n",
    "sample=re.findall(pattern,sample_text)\n",
    "print(sample)\n",
    "\n",
    "\n",
    "\n",
    "\n"
   ]
  },
  {
   "cell_type": "code",
   "execution_count": null,
   "id": "29c8dc85",
   "metadata": {},
   "outputs": [],
   "source": []
  }
 ],
 "metadata": {
  "kernelspec": {
   "display_name": "Python 3 (ipykernel)",
   "language": "python",
   "name": "python3"
  },
  "language_info": {
   "codemirror_mode": {
    "name": "ipython",
    "version": 3
   },
   "file_extension": ".py",
   "mimetype": "text/x-python",
   "name": "python",
   "nbconvert_exporter": "python",
   "pygments_lexer": "ipython3",
   "version": "3.10.9"
  }
 },
 "nbformat": 4,
 "nbformat_minor": 5
}
